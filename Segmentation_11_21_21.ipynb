{
  "nbformat": 4,
  "nbformat_minor": 0,
  "metadata": {
    "colab": {
      "name": "Segmentation_11-21-21.ipynb",
      "provenance": [],
      "mount_file_id": "1VC95mTTganclV8Mrki8-HWO_iPg2rJv4",
      "authorship_tag": "ABX9TyPgb5LLjEtLe3MKQduWsyn5",
      "include_colab_link": true
    },
    "kernelspec": {
      "name": "python3",
      "display_name": "Python 3"
    },
    "language_info": {
      "name": "python"
    }
  },
  "cells": [
    {
      "cell_type": "markdown",
      "metadata": {
        "id": "view-in-github",
        "colab_type": "text"
      },
      "source": [
        "<a href=\"https://colab.research.google.com/github/lvllvl/segmentation10k/blob/main/Segmentation_11_21_21.ipynb\" target=\"_parent\"><img src=\"https://colab.research.google.com/assets/colab-badge.svg\" alt=\"Open In Colab\"/></a>"
      ]
    },
    {
      "cell_type": "code",
      "metadata": {
        "id": "ZFTskZ29hHhN"
      },
      "source": [
        "import cv2 as cv\n",
        "import numpy as np\n",
        "from google.colab.patches import cv2_imshow\n",
        "import os\n",
        "from os import walk"
      ],
      "execution_count": 24,
      "outputs": []
    },
    {
      "cell_type": "markdown",
      "metadata": {
        "id": "CDQ5RTB0hx3s"
      },
      "source": [
        "# Prepare Images"
      ]
    },
    {
      "cell_type": "code",
      "metadata": {
        "id": "F23jrTvqqhMu"
      },
      "source": [
        "file_path = '/content/drive/MyDrive/projects/datasets/comma10k2/'\n",
        "imgs = 'imgs'\n",
        "masks = 'masks'\n",
        "\n",
        "\n",
        "def get_filenames( file_path, folderName ):\n",
        "\n",
        "    os.chdir( file_path + folderName )  # change directory \n",
        "    fns = [ ] # init data structure for file names \n",
        "    \n",
        "    for ( dirpath, dirnames, filesnames ) in walk( os.curdir ) :\n",
        "\n",
        "        fns.extend( filesnames )\n",
        "\n",
        "    return fns\n",
        "\n",
        "image_fns = get_filenames( file_path, imgs ) \n",
        "mask_fns = get_filenames( file_path, masks )"
      ],
      "execution_count": 25,
      "outputs": []
    },
    {
      "cell_type": "code",
      "metadata": {
        "colab": {
          "base_uri": "https://localhost:8080/"
        },
        "id": "NQXdtMp9r26x",
        "outputId": "4d58c236-060d-419d-b2b9-ca040a47ef00"
      },
      "source": [
        "masks_prepped = file_path + 'masks_prepped'\n",
        "imgs_prepped = file_path + 'imgs_prepped'\n",
        "len( image_fns ), len( mask_fns ) "
      ],
      "execution_count": 49,
      "outputs": [
        {
          "output_type": "execute_result",
          "data": {
            "text/plain": [
              "(9888, 9888)"
            ]
          },
          "metadata": {},
          "execution_count": 49
        }
      ]
    },
    {
      "cell_type": "code",
      "metadata": {
        "id": "S8X497bAUc89"
      },
      "source": [
        "# Open each image\n",
        "# Resize each image ( 572, 572, 1 )\n",
        "\n",
        "for i in range( len( image_fns ) ):\n",
        "\n",
        "    # Prepare filenames - old \n",
        "    fn_msk = str( file_path + masks + '/' + mask_fns[ i ] )\n",
        "    fn_img = str( file_path + imgs + '/' + image_fns[ i ] )\n",
        "\n",
        "    # Prep filenames - new \n",
        "    new_fn_msk = file_path + 'masks_prepped/mask_' + str( mask_fns[i][:4] ) + '.png'\n",
        "    new_fn_img = file_path + 'imgs_prepped/image_' + str( mask_fns[i][:4] ) + '.png'\n",
        "    \n",
        "    # Open file names\n",
        "    msk_image = cv.imread( fn_msk )\n",
        "    img_image = cv.imread( fn_img )\n",
        "    \n",
        "    W, H, C = img_image.shape # extract the shape\n",
        "\n",
        "    # Crop the images \n",
        "    msk_cropped = msk_image[ 0:W-302, 296: H-296, 1 ]\n",
        "    img_cropped = img_image[ 0:W-302, 296: H-296, : ]\n",
        "\n",
        "    # Save the images \n",
        "    cv.imwrite(  new_fn_msk, msk_cropped )\n",
        "    cv.imwrite( new_fn_img, img_cropped ) "
      ],
      "execution_count": 51,
      "outputs": []
    },
    {
      "cell_type": "code",
      "metadata": {
        "colab": {
          "base_uri": "https://localhost:8080/",
          "height": 589
        },
        "id": "qTeYfL_maty4",
        "outputId": "60d83111-c1bb-4724-821c-a06f0935397b"
      },
      "source": [
        ""
      ],
      "execution_count": 47,
      "outputs": [
        {
          "output_type": "display_data",
          "data": {
            "image/png": "[encoded data removed]",
            "text/plain": [
              "<PIL.Image.Image image mode=L size=572x572 at 0x7FF7D6FE1E10>"
            ]
          },
          "metadata": {}
        }
      ]
    },
    {
      "cell_type": "code",
      "metadata": {
        "id": "eif2EKsjdEPN"
      },
      "source": [
        ""
      ],
      "execution_count": null,
      "outputs": []
    }
  ]
}