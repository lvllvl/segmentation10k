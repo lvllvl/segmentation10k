{
  "nbformat": 4,
  "nbformat_minor": 0,
  "metadata": {
    "colab": {
      "name": "Segmentation_11-21-21.ipynb",
      "provenance": [],
      "mount_file_id": "1VC95mTTganclV8Mrki8-HWO_iPg2rJv4",
      "authorship_tag": "ABX9TyO6wbvGHfCfplj+H5zZWEhh",
      "include_colab_link": true
    },
    "kernelspec": {
      "name": "python3",
      "display_name": "Python 3"
    },
    "language_info": {
      "name": "python"
    }
  },
  "cells": [
    {
      "cell_type": "markdown",
      "metadata": {
        "id": "view-in-github",
        "colab_type": "text"
      },
      "source": [
        "<a href=\"https://colab.research.google.com/github/lvllvl/segmentation10k/blob/main/Segmentation_11_23_21.ipynb\" target=\"_parent\"><img src=\"https://colab.research.google.com/assets/colab-badge.svg\" alt=\"Open In Colab\"/></a>"
      ]
    },
    {
      "cell_type": "code",
      "metadata": {
        "id": "ZFTskZ29hHhN"
      },
      "source": [
        "import cv2 as cv\n",
        "import numpy as np\n",
        "from google.colab.patches import cv2_imshow\n",
        "import os\n",
        "from os import walk\n",
        "\n",
        "import torch\n",
        "import torch.nn as nn \n",
        "import torchvision.transforms.functional as TF"
      ],
      "execution_count": 1,
      "outputs": []
    },
    {
      "cell_type": "markdown",
      "metadata": {
        "id": "CDQ5RTB0hx3s"
      },
      "source": [
        "# Prepare Images"
      ]
    },
    {
      "cell_type": "code",
      "metadata": {
        "id": "F23jrTvqqhMu"
      },
      "source": [
        "# Images are prepped --> mount drive, find folder w prepped images \n",
        "\n",
        "\n",
        "# file_path = '/content/drive/MyDrive/projects/datasets/comma10k2/'\n",
        "# imgs = 'imgs'\n",
        "# masks = 'masks'\n",
        "\n",
        "\n",
        "# def get_filenames( file_path, folderName ):\n",
        "\n",
        "#     os.chdir( file_path + folderName )  # change directory \n",
        "#     fns = [ ] # init data structure for file names \n",
        "    \n",
        "#     for ( dirpath, dirnames, filesnames ) in walk( os.curdir ) :\n",
        "\n",
        "#         fns.extend( filesnames )\n",
        "\n",
        "#     return fns\n",
        "\n",
        "# image_fns = get_filenames( file_path, imgs ) \n",
        "# mask_fns = get_filenames( file_path, masks )"
      ],
      "execution_count": 2,
      "outputs": []
    },
    {
      "cell_type": "code",
      "metadata": {
        "id": "NQXdtMp9r26x"
      },
      "source": [
        "# masks_prepped = file_path + 'masks_prepped'\n",
        "# imgs_prepped = file_path + 'imgs_prepped'\n",
        "# len( image_fns ), len( mask_fns ) "
      ],
      "execution_count": 3,
      "outputs": []
    },
    {
      "cell_type": "code",
      "metadata": {
        "colab": {
          "base_uri": "https://localhost:8080/",
          "height": 122
        },
        "id": "S8X497bAUc89",
        "outputId": "23b45a54-8528-469b-86c9-61e7e41e23b2"
      },
      "source": [
        "# Open each image\n",
        "# Resize each image ( 572, 572, 1 )\n",
        "# Input images will be ( 572, 572, 3 ) *** should be 1 channel ! \n",
        "\n",
        "'''\n",
        "for i in range( len( image_fns ) ):\n",
        "\n",
        "    # Prepare filenames - old \n",
        "    fn_msk = str( file_path + masks + '/' + mask_fns[ i ] )\n",
        "    fn_img = str( file_path + imgs + '/' + image_fns[ i ] )\n",
        "\n",
        "    # Prep filenames - new \n",
        "    new_fn_msk = file_path + 'masks_prepped/mask_' + str( mask_fns[i][:4] ) + '.png'\n",
        "    new_fn_img = file_path + 'imgs_prepped/image_' + str( mask_fns[i][:4] ) + '.png'\n",
        "    \n",
        "    # Open file names\n",
        "    msk_image = cv.imread( fn_msk )\n",
        "    img_image = cv.imread( fn_img )\n",
        "    \n",
        "    W, H, C = img_image.shape # extract the shape\n",
        "\n",
        "    # Crop the images \n",
        "    msk_cropped = msk_image[ 0:W-302, 296: H-296, 1 ]\n",
        "    img_cropped = img_image[ 0:W-302, 296: H-296, : ]\n",
        "\n",
        "    # Save the images \n",
        "    cv.imwrite(  new_fn_msk, msk_cropped )\n",
        "    cv.imwrite( new_fn_img, img_cropped ) \n",
        "\n",
        "'''"
      ],
      "execution_count": 4,
      "outputs": [
        {
          "output_type": "execute_result",
          "data": {
            "application/vnd.google.colaboratory.intrinsic+json": {
              "type": "string"
            },
            "text/plain": [
              "\"\\nfor i in range( len( image_fns ) ):\\n\\n    # Prepare filenames - old \\n    fn_msk = str( file_path + masks + '/' + mask_fns[ i ] )\\n    fn_img = str( file_path + imgs + '/' + image_fns[ i ] )\\n\\n    # Prep filenames - new \\n    new_fn_msk = file_path + 'masks_prepped/mask_' + str( mask_fns[i][:4] ) + '.png'\\n    new_fn_img = file_path + 'imgs_prepped/image_' + str( mask_fns[i][:4] ) + '.png'\\n    \\n    # Open file names\\n    msk_image = cv.imread( fn_msk )\\n    img_image = cv.imread( fn_img )\\n    \\n    W, H, C = img_image.shape # extract the shape\\n\\n    # Crop the images \\n    msk_cropped = msk_image[ 0:W-302, 296: H-296, 1 ]\\n    img_cropped = img_image[ 0:W-302, 296: H-296, : ]\\n\\n    # Save the images \\n    cv.imwrite(  new_fn_msk, msk_cropped )\\n    cv.imwrite( new_fn_img, img_cropped ) \\n\\n\""
            ]
          },
          "metadata": {},
          "execution_count": 4
        }
      ]
    },
    {
      "cell_type": "markdown",
      "metadata": {
        "id": "1cROFQER-THq"
      },
      "source": [
        "# Model"
      ]
    },
    {
      "cell_type": "code",
      "metadata": {
        "id": "eif2EKsjdEPN"
      },
      "source": [
        "class DoubleConv( nn.Module ):\n",
        "\n",
        "    def __init__( self, in_channels, out_channels ):\n",
        "\n",
        "        super( DoubleConv, self ).__init__()\n",
        "\n",
        "        self.conv = nn.Sequential( \n",
        "            \n",
        "            nn.Conv2d( in_channels, out_channels, 3, 1, 1, bias=False ),\n",
        "            nn.BatchNorm2d( out_channels ),\n",
        "            nn.ReLU( inplace=True ),\n",
        "            nn.Conv2d( out_channels, out_channels , 3, 1, 1, bias = False ), # TODO bias = false b/c we're using batchnorm\n",
        "            nn.BatchNorm2d( out_channels ), # TODO: do we need batchnorm for mult classes? \n",
        "            nn.ReLU( inplace=True )\n",
        "        )\n",
        "\n",
        "    def forward( self, x ):\n",
        "        return self.conv( x )\n",
        "\n",
        "class UNET( nn.Module ):\n",
        "\n",
        "    # TODO: research out_channels, right now it's 1 (binary), but we want ~5 total classes\n",
        "    def __init__( self, in_channels=3, out_channels=1, features=[ 64, 128, 256, 512 ]  ):\n",
        "\n",
        "        super( UNET, self ).__init__()\n",
        "        self.ups= nn.ModuleList() # This has extra features, for example model.eval for batchnorm layers\n",
        "        self.downs = nn.ModuleList()\n",
        "        self.pool = nn.MaxPool2d( kernel_size=2, stride = 2 )\n",
        "            \n",
        "        # Down part of UNET\n",
        "        for feature in features:\n",
        "            self.downs.append( DoubleConv( in_channels, feature )) # Add a layer to this ModuleList()\n",
        "            in_channels = feature\n",
        "\n",
        "        # Up part of UNET\n",
        "        for feature in reversed( features ) :\n",
        "\n",
        "            self.ups.append( \n",
        "                nn.ConvTranspose2d( \n",
        "                    feature * 2, feature, kernel_size = 2, stride =2\n",
        "                )\n",
        "            )\n",
        "            \n",
        "            # Why? notice on upsampling that there's a green up conv then 2 convolutional layers\n",
        "            self.ups.append( DoubleConv( feature*2, feature )) \n",
        "\n",
        "        # bottle neck is for the very bottom of the U-net diagram\n",
        "        self.bottleneck = DoubleConv( features[ -1 ], features[-1]*2 )\n",
        "        self.final_conv = nn.Conv2d( features[0], out_channels, kernel_size = 1 )\n",
        "\n",
        "    def forward( self, x ):\n",
        "\n",
        "        skip_connections = []  # store skip connections here ( skip_connection = gray horizontal arrow in diagram ) \n",
        "        for down in self.downs:\n",
        "            x = down( x ) \n",
        "            skip_connections.append( x )  # append this layer as you go ( gray arrow ) \n",
        "            x = self.pool( x ) \n",
        "        \n",
        "        x = self.bottleneck( x ) \n",
        "        skip_connections = skip_connections[ ::-1 ]\n",
        "\n",
        "        for idx in range( 0, len( self.ups ), 2 ): # 2 steps bc of up & doubleConv layers\n",
        "            x = self.ups[ idx ]( x ) # conv transpose 2d\n",
        "            skip_connection = skip_connections[ idx // 2 ]\n",
        "            \n",
        "            if x.shape != skip_connection.shape:\n",
        "                x = TF.resize( x, size = skip_connection.shape[ 2: ] ) # Resize, extract H, W just in case your image is NOT divisible by 16\n",
        "\n",
        "            concat_skip = torch.cat( (skip_connection, x), dim=1 )\n",
        "            x = self.ups[ idx + 1 ]( concat_skip )\n",
        "\n",
        "        return self.final_conv( x ) \n"
      ],
      "execution_count": 19,
      "outputs": []
    },
    {
      "cell_type": "code",
      "metadata": {
        "id": "ITMiaQfg-45V"
      },
      "source": [
        "def test():\n",
        "\n",
        "    x = torch.randn( (3, 1, 160, 160) )\n",
        "    model = UNET( in_channels = 1, out_channels = 1 ) \n",
        "    preds = model( x ) \n",
        "\n",
        "    print( preds.shape ) \n",
        "    print( x.shape )\n",
        "    assert preds.shape == x.shape  "
      ],
      "execution_count": 20,
      "outputs": []
    },
    {
      "cell_type": "code",
      "metadata": {
        "colab": {
          "base_uri": "https://localhost:8080/"
        },
        "id": "lkYBhXc6y38v",
        "outputId": "def9e5bd-2e8b-4588-e1f2-4c6d14de0153"
      },
      "source": [
        "if __name__ == '__main__':\n",
        "    test()"
      ],
      "execution_count": 21,
      "outputs": [
        {
          "output_type": "stream",
          "name": "stdout",
          "text": [
            "torch.Size([3, 1, 160, 160])\n",
            "torch.Size([3, 1, 160, 160])\n"
          ]
        }
      ]
    },
    {
      "cell_type": "markdown",
      "metadata": {
        "id": "uCJL0uw_VSej"
      },
      "source": [
        "# Utils.py"
      ]
    },
    {
      "cell_type": "code",
      "metadata": {
        "id": "2910lCniA-go"
      },
      "source": [
        "import torch\n",
        "import torchvision\n",
        "from dataset import CarvanaDataset\n",
        "from torch.utils.data import DataLoader\n",
        "\n",
        "def save_checkpoint(state, filename=\"my_checkpoint.pth.tar\"):\n",
        "    print(\"=> Saving checkpoint\")\n",
        "    torch.save(state, filename)\n",
        "\n",
        "def load_checkpoint(checkpoint, model):\n",
        "    print(\"=> Loading checkpoint\")\n",
        "    model.load_state_dict(checkpoint[\"state_dict\"])\n",
        "\n",
        "def get_loaders(\n",
        "    train_dir,\n",
        "    train_maskdir,\n",
        "    val_dir,\n",
        "    val_maskdir,\n",
        "    batch_size,\n",
        "    train_transform,\n",
        "    val_transform,\n",
        "    num_workers=4,\n",
        "    pin_memory=True,\n",
        "):\n",
        "    train_ds = CarvanaDataset(\n",
        "        image_dir=train_dir,\n",
        "        mask_dir=train_maskdir,\n",
        "        transform=train_transform,\n",
        "    )\n",
        "\n",
        "    train_loader = DataLoader(\n",
        "        train_ds,\n",
        "        batch_size=batch_size,\n",
        "        num_workers=num_workers,\n",
        "        pin_memory=pin_memory,\n",
        "        shuffle=True,\n",
        "    )\n",
        "\n",
        "    val_ds = CarvanaDataset(\n",
        "        image_dir=val_dir,\n",
        "        mask_dir=val_maskdir,\n",
        "        transform=val_transform,\n",
        "    )\n",
        "\n",
        "    val_loader = DataLoader(\n",
        "        val_ds,\n",
        "        batch_size=batch_size,\n",
        "        num_workers=num_workers,\n",
        "        pin_memory=pin_memory,\n",
        "        shuffle=False,\n",
        "    )\n",
        "\n",
        "    return train_loader, val_loader\n",
        "\n",
        "def check_accuracy(loader, model, device=\"cuda\"):\n",
        "    num_correct = 0\n",
        "    num_pixels = 0\n",
        "    dice_score = 0\n",
        "    model.eval()\n",
        "\n",
        "    with torch.no_grad():\n",
        "        for x, y in loader:\n",
        "            x = x.to(device)\n",
        "            y = y.to(device).unsqueeze(1)\n",
        "            preds = torch.sigmoid(model(x))\n",
        "            preds = (preds > 0.5).float()\n",
        "            num_correct += (preds == y).sum()\n",
        "            num_pixels += torch.numel(preds)\n",
        "            dice_score += (2 * (preds * y).sum()) / (\n",
        "                (preds + y).sum() + 1e-8\n",
        "            )\n",
        "\n",
        "    print(\n",
        "        f\"Got {num_correct}/{num_pixels} with acc {num_correct/num_pixels*100:.2f}\"\n",
        "    )\n",
        "    print(f\"Dice score: {dice_score/len(loader)}\")\n",
        "    model.train()\n",
        "\n",
        "def save_predictions_as_imgs(\n",
        "    loader, model, folder=\"saved_images/\", device=\"cuda\"\n",
        "):\n",
        "    model.eval()\n",
        "    for idx, (x, y) in enumerate(loader):\n",
        "        x = x.to(device=device)\n",
        "        with torch.no_grad():\n",
        "            preds = torch.sigmoid(model(x))\n",
        "            preds = (preds > 0.5).float()\n",
        "        torchvision.utils.save_image(\n",
        "            preds, f\"{folder}/pred_{idx}.png\"\n",
        "        )\n",
        "        torchvision.utils.save_image(y.unsqueeze(1), f\"{folder}{idx}.png\")\n",
        "\n",
        "    model.train()"
      ],
      "execution_count": null,
      "outputs": []
    },
    {
      "cell_type": "markdown",
      "metadata": {
        "id": "K8qnLDVoWeRW"
      },
      "source": [
        "# Dataset "
      ]
    },
    {
      "cell_type": "code",
      "metadata": {
        "id": "KDiwzapmWgYK"
      },
      "source": [
        "import os\n",
        "from PIL import Image\n",
        "from torch.utils.data import Dataset\n",
        "import numpy as np\n",
        "\n",
        "class CommaDataset(Dataset):\n",
        "\n",
        "    def __init__(self, image_dir, mask_dir, transform=None):\n",
        "\n",
        "        self.image_dir = image_dir\n",
        "        self.mask_dir = mask_dir\n",
        "        \n",
        "        self.transform = transform\n",
        "        self.images = os.listdir( image_dir )\n",
        "\n",
        "    def __len__( self ):\n",
        "        return len( self.images )\n",
        "\n",
        "    def __getitem__( self, index ):\n",
        "\n",
        "        img_path = os.path.join( self.image_dir, self.images[index] ) # get the image path at this index\n",
        "        mask_path = os.path.join( self.mask_dir, self.images[index] )\n",
        "\n",
        "        image = np.array( Image.open( img_path ).convert(\"RGB\") )\n",
        "        mask = np.array( Image.open(mask_path).convert( \"L\" ), dtype=np.float32 ) # TODO: Gray scale!  Is this what I want?\n",
        "        mask[ mask == 255.0 ] = 1.0 # TODO: figure out what this means! ... any # (0-255) ...\n",
        "\n",
        "        if self.transform is not None:\n",
        "            augmentations = self.transform( image=image, mask=mask )\n",
        "            image = augmentations[ \"image\" ]\n",
        "            mask = augmentations[ \"mask\" ]\n",
        "\n",
        "        return image, mask"
      ],
      "execution_count": null,
      "outputs": []
    },
    {
      "cell_type": "markdown",
      "metadata": {
        "id": "9w1e-NupWUBo"
      },
      "source": [
        "# Train"
      ]
    },
    {
      "cell_type": "code",
      "metadata": {
        "id": "2K6XZgFlWV3P"
      },
      "source": [
        "import torch\n",
        "import albumentations as A\n",
        "from albumentations.pytorch import ToTensorV2\n",
        "from tqdm import tqdm\n",
        "import torch.nn as nn\n",
        "import torch.optim as optim\n",
        "from model import UNET\n",
        "from utils import (\n",
        "    load_checkpoint,\n",
        "    save_checkpoint,\n",
        "    get_loaders,\n",
        "    check_accuracy,\n",
        "    save_predictions_as_imgs,\n",
        ")\n",
        "\n",
        "# Hyperparameters etc.\n",
        "LEARNING_RATE = 1e-4\n",
        "DEVICE = \"cuda\" if torch.cuda.is_available() else \"cpu\"\n",
        "BATCH_SIZE = 16\n",
        "NUM_EPOCHS = 3\n",
        "NUM_WORKERS = 2\n",
        "IMAGE_HEIGHT = 160  # 1280 originally\n",
        "IMAGE_WIDTH = 240  # 1918 originally\n",
        "PIN_MEMORY = True\n",
        "LOAD_MODEL = False\n",
        "TRAIN_IMG_DIR = \"data/train_images/\"\n",
        "TRAIN_MASK_DIR = \"data/train_masks/\"\n",
        "VAL_IMG_DIR = \"data/val_images/\"\n",
        "VAL_MASK_DIR = \"data/val_masks/\"\n",
        "\n",
        "def train_fn(loader, model, optimizer, loss_fn, scaler):\n",
        "    loop = tqdm(loader)\n",
        "\n",
        "    for batch_idx, (data, targets) in enumerate(loop):\n",
        "        data = data.to(device=DEVICE)\n",
        "        targets = targets.float().unsqueeze(1).to(device=DEVICE)\n",
        "\n",
        "        # forward\n",
        "        with torch.cuda.amp.autocast():\n",
        "            predictions = model(data)\n",
        "            loss = loss_fn(predictions, targets)\n",
        "\n",
        "        # backward\n",
        "        optimizer.zero_grad()\n",
        "        scaler.scale(loss).backward()\n",
        "        scaler.step(optimizer)\n",
        "        scaler.update()\n",
        "\n",
        "        # update tqdm loop\n",
        "        loop.set_postfix(loss=loss.item())\n",
        "\n",
        "\n",
        "def main():\n",
        "    train_transform = A.Compose(\n",
        "        [\n",
        "            A.Resize(height=IMAGE_HEIGHT, width=IMAGE_WIDTH),\n",
        "            A.Rotate(limit=35, p=1.0),\n",
        "            A.HorizontalFlip(p=0.5),\n",
        "            A.VerticalFlip(p=0.1),\n",
        "            A.Normalize(\n",
        "                mean=[0.0, 0.0, 0.0],\n",
        "                std=[1.0, 1.0, 1.0],\n",
        "                max_pixel_value=255.0,\n",
        "            ),\n",
        "            ToTensorV2(),\n",
        "        ],\n",
        "    )\n",
        "\n",
        "    val_transforms = A.Compose(\n",
        "        [\n",
        "            A.Resize(height=IMAGE_HEIGHT, width=IMAGE_WIDTH),\n",
        "            A.Normalize(\n",
        "                mean=[0.0, 0.0, 0.0],\n",
        "                std=[1.0, 1.0, 1.0],\n",
        "                max_pixel_value=255.0,\n",
        "            ),\n",
        "            ToTensorV2(),\n",
        "        ],\n",
        "    )\n",
        "\n",
        "    model = UNET(in_channels=3, out_channels=1).to(DEVICE)\n",
        "    loss_fn = nn.BCEWithLogitsLoss()\n",
        "    optimizer = optim.Adam(model.parameters(), lr=LEARNING_RATE)\n",
        "\n",
        "    train_loader, val_loader = get_loaders(\n",
        "        TRAIN_IMG_DIR,\n",
        "        TRAIN_MASK_DIR,\n",
        "        VAL_IMG_DIR,\n",
        "        VAL_MASK_DIR,\n",
        "        BATCH_SIZE,\n",
        "        train_transform,\n",
        "        val_transforms,\n",
        "        NUM_WORKERS,\n",
        "        PIN_MEMORY,\n",
        "    )\n",
        "\n",
        "    if LOAD_MODEL:\n",
        "        load_checkpoint(torch.load(\"my_checkpoint.pth.tar\"), model)\n",
        "\n",
        "\n",
        "    check_accuracy(val_loader, model, device=DEVICE)\n",
        "    scaler = torch.cuda.amp.GradScaler()\n",
        "\n",
        "    for epoch in range(NUM_EPOCHS):\n",
        "        train_fn(train_loader, model, optimizer, loss_fn, scaler)\n",
        "\n",
        "        # save model\n",
        "        checkpoint = {\n",
        "            \"state_dict\": model.state_dict(),\n",
        "            \"optimizer\":optimizer.state_dict(),\n",
        "        }\n",
        "        save_checkpoint(checkpoint)\n",
        "\n",
        "        # check accuracy\n",
        "        check_accuracy(val_loader, model, device=DEVICE)\n",
        "\n",
        "        # print some examples to a folder\n",
        "        save_predictions_as_imgs(\n",
        "            val_loader, model, folder=\"saved_images/\", device=DEVICE\n",
        "        )\n",
        "\n",
        "\n",
        "if __name__ == \"__main__\":\n",
        "    main()"
      ],
      "execution_count": null,
      "outputs": []
    }
  ]
}