{
  "nbformat": 4,
  "nbformat_minor": 0,
  "metadata": {
    "colab": {
      "name": "segmentation10k",
      "provenance": [],
      "collapsed_sections": [],
      "authorship_tag": "ABX9TyOXJLVVXE4E+OWaqpFFT4ri",
      "include_colab_link": true
    },
    "kernelspec": {
      "name": "python3",
      "display_name": "Python 3"
    },
    "language_info": {
      "name": "python"
    }
  },
  "cells": [
    {
      "cell_type": "markdown",
      "metadata": {
        "id": "view-in-github",
        "colab_type": "text"
      },
      "source": [
        "<a href=\"https://colab.research.google.com/github/lvllvl/segmentation10k/blob/main/segmentation10k.ipynb\" target=\"_parent\"><img src=\"https://colab.research.google.com/assets/colab-badge.svg\" alt=\"Open In Colab\"/></a>"
      ]
    },
    {
      "cell_type": "code",
      "metadata": {
        "id": "FXotPIMMubBc"
      },
      "source": [
        "import torch.nn as nn\n",
        "import torch\n",
        "from pathlib import Path "
      ],
      "execution_count": 2,
      "outputs": []
    },
    {
      "cell_type": "code",
      "metadata": {
        "id": "L3roeGdZbZ8p",
        "colab": {
          "base_uri": "https://localhost:8080/"
        },
        "outputId": "ba92a4d9-afa3-40c1-8a69-076dc558055f"
      },
      "source": [
        "! git clone https://github.com/commaai/comma10k.git"
      ],
      "execution_count": 3,
      "outputs": [
        {
          "output_type": "stream",
          "text": [
            "Cloning into 'comma10k'...\n",
            "remote: Enumerating objects: 60941, done.\u001b[K\n",
            "remote: Counting objects: 100% (532/532), done.\u001b[K\n",
            "remote: Compressing objects: 100% (484/484), done.\u001b[K\n",
            "remote: Total 60941 (delta 157), reused 352 (delta 48), pack-reused 60409\u001b[K\n",
            "Receiving objects: 100% (60941/60941), 7.46 GiB | 38.10 MiB/s, done.\n",
            "Resolving deltas: 100% (8190/8190), done.\n",
            "Checking out files: 100% (20598/20598), done.\n"
          ],
          "name": "stdout"
        }
      ]
    },
    {
      "cell_type": "code",
      "metadata": {
        "id": "z6hYqY3hki_e"
      },
      "source": [
        "dir_comma10k = Path( '/content/comma10k/')\n",
        "\n",
        "# masks, imgs folders --> use both of those folders "
      ],
      "execution_count": 29,
      "outputs": []
    },
    {
      "cell_type": "code",
      "metadata": {
        "colab": {
          "base_uri": "https://localhost:8080/"
        },
        "id": "BXGvLjkKvq3_",
        "outputId": "019d348d-de38-4992-a9e5-3d0fefd834aa"
      },
      "source": [
        "def double_conv( in_c, out_c ): \n",
        "    # input channel, output channel \n",
        "    conv = nn.Sequential( \n",
        "        nn.Conv2d( in_c, out_c, kernel_size=3), \n",
        "        nn.ReLU( inplace=True ), # what does this do?\n",
        "        \n",
        "        nn.Conv2d( out_c, out_c, kernel_size=3), \n",
        "        nn.ReLU( inplace=True ) # what does this do?\n",
        "    )\n",
        "    return conv\n",
        "\n",
        "def crop_img( tensor, target_tensor ): \n",
        "    target_size = target_tensor.size()[2]\n",
        "    tensor_size = tensor.size()[2]\n",
        "    delta = tensor_size - target_size\n",
        "    delta = delta // 2 \n",
        "    return tensor[ :,:,delta:tensor_size-delta, delta:tensor_size-delta ]\n",
        "\n",
        "\n",
        "class UNet( nn.Module ): \n",
        "\n",
        "    def __init__( self ): \n",
        "        super( UNet, self ).__init__() # what does this do?\n",
        "\n",
        "        self.max_pool_2x2 = nn.MaxPool2d( kernel_size=2, stride=2 ) # define this 1x, use it multiple times \n",
        "    \n",
        "        self.down_conv_1 = double_conv( 1, 64)\n",
        "        self.down_conv_2 = double_conv( 64, 128)\n",
        "        self.down_conv_3 = double_conv( 128, 256)\n",
        "        self.down_conv_4 = double_conv( 256, 512)\n",
        "        self.down_conv_5 = double_conv( 512, 1024)\n",
        "\n",
        "        self.up_trans_1 = nn.ConvTranspose2d( \n",
        "            in_channels = 1024,\n",
        "            out_channels = 512, \n",
        "            kernel_size = 2,\n",
        "            stride = 2 \n",
        "        )\n",
        "        self.up_conv_1 = double_conv( 1024, 512 )\n",
        "             \n",
        "        self.up_trans_2 = nn.ConvTranspose2d( \n",
        "            in_channels = 512,\n",
        "            out_channels = 256, \n",
        "            kernel_size = 2,\n",
        "            stride = 2 \n",
        "        )\n",
        "        self.up_conv_2 = double_conv( 512, 256 )\n",
        "        \n",
        "        self.up_trans_3 = nn.ConvTranspose2d( \n",
        "            in_channels = 256,\n",
        "            out_channels = 128, \n",
        "            kernel_size = 2,\n",
        "            stride = 2 \n",
        "        )\n",
        "        self.up_conv_3 = double_conv( 256, 128 )\n",
        "        \n",
        "        self.up_trans_4 = nn.ConvTranspose2d( \n",
        "            in_channels = 128,\n",
        "            out_channels = 64, \n",
        "            kernel_size = 2,\n",
        "            stride = 2 \n",
        "        )\n",
        "        self.up_conv_4 = double_conv( 128, 64 )\n",
        "\n",
        "\n",
        "        self.out = nn.Conv2( \n",
        "            in_channels = 64, \n",
        "            out_channels = 5, # increase out channels based on how many classes youwant to segement \n",
        "            kernel_size = 1 # 2d conv, w kernel size of 1\n",
        "        )\n",
        "\n",
        "    def forward( self, image ):\n",
        "        # bs, c, h, w --> batch size, channel, height, width \n",
        "        # Encoder file \n",
        "        x1 = self.down_conv_1( image ) # \n",
        "        x2 = self.max_pool_2x2( x1 )\n",
        "        x3 = self.down_conv_2( x2 ) # \n",
        "        x4 = self.max_pool_2x2( x3 ) \n",
        "        x5 = self.down_conv_3( x4 ) # \n",
        "        x6 = self.max_pool_2x2( x5 ) \n",
        "        x7 = self.down_conv_4( x6 ) # \n",
        "        x8 = self.max_pool_2x2( x7 ) \n",
        "        x9 = self.down_conv_5( x8 ) # \n",
        "        print( x9.size() )\n",
        "\n",
        "        # decoder part \n",
        "        x =  self.up_trans_1( x9 ) \n",
        "        y = crop_img( x7, x ) \n",
        "        x = self.up_conv_1( torch.cat( [x, y], 1) )\n",
        "        \n",
        "        x =  self.up_trans_2( x ) \n",
        "        y = crop_img( x5, x ) \n",
        "        x = self.up_conv_2( torch.cat( [x, y], 1) )\n",
        "\n",
        "        x =  self.up_trans_3( x ) \n",
        "        y = crop_img( x3, x ) \n",
        "        x = self.up_conv_3( torch.cat( [x, y], 1) )\n",
        "\n",
        "        x =  self.up_trans_4( x9 ) \n",
        "        y = crop_img( x1, x ) \n",
        "        x = self.up_conv_4( torch.cat( [x, y], 1) )\n",
        "\n",
        "        x = self.out( x ) \n",
        "        print( x.size() ) \n",
        "        return x \n",
        "\n",
        "\n",
        "if __name__ == \"__main__\": \n",
        "    image = torch.rand( ( 1, 1, 572, 572 )) \n",
        "    model = UNet() \n",
        "\n",
        "    print( model( image ) ) \n",
        "\n",
        "\n",
        "\n"
      ],
      "execution_count": 13,
      "outputs": [
        {
          "output_type": "stream",
          "text": [
            "torch.Size([1, 1024, 28, 28])\n",
            "torch.Size([1, 512, 56, 56])\n",
            "torch.Size([1, 512, 64, 64])\n",
            "None\n"
          ],
          "name": "stdout"
        }
      ]
    },
    {
      "cell_type": "code",
      "metadata": {
        "id": "H18VTDen2MCT"
      },
      "source": [
        ""
      ],
      "execution_count": null,
      "outputs": []
    }
  ]
}